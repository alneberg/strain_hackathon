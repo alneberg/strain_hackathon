{
 "metadata": {
  "name": "",
  "signature": "sha256:66f1cc3ea5fb38e15ae7ca9b2ebda77ba08272324db41e9f84f3eb1881ff3560"
 },
 "nbformat": 3,
 "nbformat_minor": 0,
 "worksheets": [
  {
   "cells": [
    {
     "cell_type": "code",
     "collapsed": false,
     "input": [
      "import numpy as np\n",
      "import pandas as p\n",
      "import matplotlib.pyplot as plt\n",
      "from string import ascii_uppercase\n",
      "from matplotlib import patheffects\n",
      "from scipy import stats\n",
      "%matplotlib inline"
     ],
     "language": "python",
     "metadata": {},
     "outputs": [],
     "prompt_number": 161
    },
    {
     "cell_type": "code",
     "collapsed": false,
     "input": [
      "count_file = \"/Users/johannesalneberg/repos/strain_hackathon/chris/Counts.csv\"\n",
      "counts_df = p.read_csv(count_file, header=0, index_col=0)\n",
      "eta_file = \"/Users/johannesalneberg/repos/strain_hackathon/chris/Z.csv\"\n",
      "eta_df = p.read_csv(eta_file, header=None, index_col=None)"
     ],
     "language": "python",
     "metadata": {},
     "outputs": [],
     "prompt_number": 110
    },
    {
     "cell_type": "code",
     "collapsed": false,
     "input": [
      "eta = eta_df.as_matrix()\n",
      "eta"
     ],
     "language": "python",
     "metadata": {},
     "outputs": [
      {
       "metadata": {},
       "output_type": "pyout",
       "prompt_number": 87,
       "text": [
        "array([[ 1.,  1.],\n",
        "       [ 1.,  1.],\n",
        "       [ 1.,  1.],\n",
        "       [ 1.,  1.],\n",
        "       [ 0.,  1.],\n",
        "       [ 0.,  1.],\n",
        "       [ 0.,  1.],\n",
        "       [ 1.,  0.],\n",
        "       [ 1.,  0.],\n",
        "       [ 1.,  0.]])"
       ]
      }
     ],
     "prompt_number": 87
    },
    {
     "cell_type": "code",
     "collapsed": false,
     "input": [
      "counts_df"
     ],
     "language": "python",
     "metadata": {},
     "outputs": [
      {
       "html": [
        "<div style=\"max-height:1000px;max-width:1500px;overflow:auto;\">\n",
        "<table border=\"1\" class=\"dataframe\">\n",
        "  <thead>\n",
        "    <tr style=\"text-align: right;\">\n",
        "      <th></th>\n",
        "      <th>0</th>\n",
        "      <th>1</th>\n",
        "      <th>2</th>\n",
        "      <th>3</th>\n",
        "    </tr>\n",
        "    <tr>\n",
        "      <th>contig</th>\n",
        "      <th></th>\n",
        "      <th></th>\n",
        "      <th></th>\n",
        "      <th></th>\n",
        "    </tr>\n",
        "  </thead>\n",
        "  <tbody>\n",
        "    <tr>\n",
        "      <th>c0</th>\n",
        "      <td> 142</td>\n",
        "      <td> 137</td>\n",
        "      <td> 154</td>\n",
        "      <td> 137</td>\n",
        "    </tr>\n",
        "    <tr>\n",
        "      <th>c1</th>\n",
        "      <td> 139</td>\n",
        "      <td> 160</td>\n",
        "      <td> 132</td>\n",
        "      <td> 143</td>\n",
        "    </tr>\n",
        "    <tr>\n",
        "      <th>c2</th>\n",
        "      <td> 156</td>\n",
        "      <td> 145</td>\n",
        "      <td> 124</td>\n",
        "      <td> 134</td>\n",
        "    </tr>\n",
        "    <tr>\n",
        "      <th>c3</th>\n",
        "      <td> 131</td>\n",
        "      <td> 142</td>\n",
        "      <td> 174</td>\n",
        "      <td> 130</td>\n",
        "    </tr>\n",
        "    <tr>\n",
        "      <th>c4</th>\n",
        "      <td> 121</td>\n",
        "      <td>  15</td>\n",
        "      <td>  57</td>\n",
        "      <td>  80</td>\n",
        "    </tr>\n",
        "    <tr>\n",
        "      <th>c5</th>\n",
        "      <td> 119</td>\n",
        "      <td>  13</td>\n",
        "      <td>  77</td>\n",
        "      <td>  82</td>\n",
        "    </tr>\n",
        "    <tr>\n",
        "      <th>c6</th>\n",
        "      <td> 154</td>\n",
        "      <td>  12</td>\n",
        "      <td>  78</td>\n",
        "      <td>  69</td>\n",
        "    </tr>\n",
        "    <tr>\n",
        "      <th>c7</th>\n",
        "      <td>   9</td>\n",
        "      <td> 129</td>\n",
        "      <td>  67</td>\n",
        "      <td>  78</td>\n",
        "    </tr>\n",
        "    <tr>\n",
        "      <th>c8</th>\n",
        "      <td>  14</td>\n",
        "      <td> 116</td>\n",
        "      <td>  62</td>\n",
        "      <td>  66</td>\n",
        "    </tr>\n",
        "    <tr>\n",
        "      <th>c9</th>\n",
        "      <td>  15</td>\n",
        "      <td> 131</td>\n",
        "      <td>  75</td>\n",
        "      <td>  81</td>\n",
        "    </tr>\n",
        "  </tbody>\n",
        "</table>\n",
        "</div>"
       ],
       "metadata": {},
       "output_type": "pyout",
       "prompt_number": 88,
       "text": [
        "          0    1    2    3\n",
        "contig                    \n",
        "c0      142  137  154  137\n",
        "c1      139  160  132  143\n",
        "c2      156  145  124  134\n",
        "c3      131  142  174  130\n",
        "c4      121   15   57   80\n",
        "c5      119   13   77   82\n",
        "c6      154   12   78   69\n",
        "c7        9  129   67   78\n",
        "c8       14  116   62   66\n",
        "c9       15  131   75   81"
       ]
      }
     ],
     "prompt_number": 88
    },
    {
     "cell_type": "code",
     "collapsed": true,
     "input": [
      "counts = counts_df.as_matrix()"
     ],
     "language": "python",
     "metadata": {},
     "outputs": [],
     "prompt_number": 90
    },
    {
     "cell_type": "code",
     "collapsed": false,
     "input": [
      "random_state = np.random.RandomState()\n",
      "rank = 2\n",
      "gamma_dim1 = rank\n",
      "gamma_dim2 = counts.shape[1]\n",
      "eta_dim1 = counts.shape[0]\n",
      "eta_dim2 = 2"
     ],
     "language": "python",
     "metadata": {},
     "outputs": [],
     "prompt_number": 91
    },
    {
     "cell_type": "code",
     "collapsed": false,
     "input": [
      "a = 1.00e-3\n",
      "b = 1.0e3"
     ],
     "language": "python",
     "metadata": {},
     "outputs": [],
     "prompt_number": 92
    },
    {
     "cell_type": "code",
     "collapsed": false,
     "input": [
      "np.mat(random_state.gamma(a, b, (gamma_dim1, gamma_dim2)))"
     ],
     "language": "python",
     "metadata": {},
     "outputs": [
      {
       "metadata": {},
       "output_type": "pyout",
       "prompt_number": 93,
       "text": [
        "matrix([[  1.00186760e-076,   0.00000000e+000,   3.81540151e-021,\n",
        "           1.26427894e-185],\n",
        "        [  0.00000000e+000,   0.00000000e+000,   1.27121169e-274,\n",
        "           2.15451507e-243]])"
       ]
      }
     ],
     "prompt_number": 93
    },
    {
     "cell_type": "code",
     "collapsed": false,
     "input": [
      "# eta\n",
      "np.mat(random_state.gamma(a, b, (eta_dim1, eta_dim2)))"
     ],
     "language": "python",
     "metadata": {},
     "outputs": [
      {
       "metadata": {},
       "output_type": "pyout",
       "prompt_number": 94,
       "text": [
        "matrix([[  1.91515900e-039,   0.00000000e+000],\n",
        "        [  8.85161807e-120,   1.05685673e-049],\n",
        "        [  1.19916204e-290,   3.73243766e-015],\n",
        "        [  0.00000000e+000,   5.98705845e-192],\n",
        "        [  4.40813149e-044,   0.00000000e+000],\n",
        "        [  2.81315682e-276,   2.54580942e-016],\n",
        "        [  5.12440184e-048,   8.86084507e-051],\n",
        "        [  0.00000000e+000,   0.00000000e+000],\n",
        "        [  4.98913563e-054,   3.06616539e-064],\n",
        "        [  0.00000000e+000,   1.17493335e-182]])"
       ]
      }
     ],
     "prompt_number": 94
    },
    {
     "cell_type": "code",
     "collapsed": false,
     "input": [
      "m, n = 4, 7 # 4 rows, 7 columns\n",
      "df = pd.DataFrame(np.random.randn(m, n),\n",
      "                  columns=list(ascii_uppercase[:n]),\n",
      "                  index=list(ascii_uppercase[-m:]))\n",
      "\n",
      "ax = plt.imshow(df, interpolation='nearest', cmap='Oranges').get_axes()\n",
      "ax.set_xticks(np.linspace(0, n-1, n))\n",
      "ax.set_xticklabels(df.columns)\n",
      "ax.set_yticks(np.linspace(0, m-1, m))\n",
      "ax.set_yticklabels(df.index)\n",
      "ax.grid('off')\n",
      "ax.xaxis.tick_top()"
     ],
     "language": "python",
     "metadata": {},
     "outputs": [
      {
       "metadata": {},
       "output_type": "display_data",
       "png": "[encoded data removed]",
       "text": [
        "<matplotlib.figure.Figure at 0x107484350>"
       ]
      }
     ],
     "prompt_number": 95
    },
    {
     "cell_type": "code",
     "collapsed": false,
     "input": [
      "np.random.poisson?"
     ],
     "language": "python",
     "metadata": {},
     "outputs": [],
     "prompt_number": 20
    },
    {
     "cell_type": "code",
     "collapsed": false,
     "input": [
      "eta"
     ],
     "language": "python",
     "metadata": {},
     "outputs": [
      {
       "html": [
        "<div style=\"max-height:1000px;max-width:1500px;overflow:auto;\">\n",
        "<table border=\"1\" class=\"dataframe\">\n",
        "  <thead>\n",
        "    <tr style=\"text-align: right;\">\n",
        "      <th></th>\n",
        "      <th>0</th>\n",
        "      <th>1</th>\n",
        "    </tr>\n",
        "  </thead>\n",
        "  <tbody>\n",
        "    <tr>\n",
        "      <th>0</th>\n",
        "      <td> 1</td>\n",
        "      <td> 1</td>\n",
        "    </tr>\n",
        "    <tr>\n",
        "      <th>1</th>\n",
        "      <td> 1</td>\n",
        "      <td> 1</td>\n",
        "    </tr>\n",
        "    <tr>\n",
        "      <th>2</th>\n",
        "      <td> 1</td>\n",
        "      <td> 1</td>\n",
        "    </tr>\n",
        "    <tr>\n",
        "      <th>3</th>\n",
        "      <td> 1</td>\n",
        "      <td> 1</td>\n",
        "    </tr>\n",
        "    <tr>\n",
        "      <th>4</th>\n",
        "      <td> 0</td>\n",
        "      <td> 1</td>\n",
        "    </tr>\n",
        "    <tr>\n",
        "      <th>5</th>\n",
        "      <td> 0</td>\n",
        "      <td> 1</td>\n",
        "    </tr>\n",
        "    <tr>\n",
        "      <th>6</th>\n",
        "      <td> 0</td>\n",
        "      <td> 1</td>\n",
        "    </tr>\n",
        "    <tr>\n",
        "      <th>7</th>\n",
        "      <td> 1</td>\n",
        "      <td> 0</td>\n",
        "    </tr>\n",
        "    <tr>\n",
        "      <th>8</th>\n",
        "      <td> 1</td>\n",
        "      <td> 0</td>\n",
        "    </tr>\n",
        "    <tr>\n",
        "      <th>9</th>\n",
        "      <td> 1</td>\n",
        "      <td> 0</td>\n",
        "    </tr>\n",
        "  </tbody>\n",
        "</table>\n",
        "</div>"
       ],
       "metadata": {},
       "output_type": "pyout",
       "prompt_number": 74,
       "text": [
        "   0  1\n",
        "0  1  1\n",
        "1  1  1\n",
        "2  1  1\n",
        "3  1  1\n",
        "4  0  1\n",
        "5  0  1\n",
        "6  0  1\n",
        "7  1  0\n",
        "8  1  0\n",
        "9  1  0"
       ]
      }
     ],
     "prompt_number": 74
    },
    {
     "cell_type": "code",
     "collapsed": false,
     "input": [
      "C = 10\n",
      "G = 2\n",
      "S = 4\n",
      "sources = np.zeros((C,G,S))"
     ],
     "language": "python",
     "metadata": {},
     "outputs": [],
     "prompt_number": 79
    },
    {
     "cell_type": "code",
     "collapsed": false,
     "input": [
      "eta[:,1]"
     ],
     "language": "python",
     "metadata": {},
     "outputs": [
      {
       "metadata": {},
       "output_type": "pyout",
       "prompt_number": 181,
       "text": [
        "array([ 1.,  1.,  1.,  1.,  1.,  1.,  1.,  0.,  0.,  0.])"
       ]
      }
     ],
     "prompt_number": 181
    },
    {
     "cell_type": "code",
     "collapsed": false,
     "input": [
      "# For each contig, and each sample\n",
      "# calculate the coverage per copy\n",
      "# Assign coverage for contig in genome and sample aka sources\n",
      "for c in range(C):\n",
      "    for s in range(S):\n",
      "        # The coverage for contig c in sample s\n",
      "        coverage_total = counts[c, s]\n",
      "        # The coverage should be weighted on something\n",
      "        # It's wrong because we don't take the genome distribution in the samples\n",
      "        # into account.\n",
      "        # It should be possible to derive from counts and eta\n",
      "        # How much of the coverage derives from sample s?\n",
      "        \n",
      "        # Maybe we need to link the contigs in a genome together?\n",
      "        # How do we get Pi from eta and Counts?\n",
      "        n_copies_total = eta[c,:].sum()\n",
      "        cov_per_copy = coverage / n_copies_total\n",
      "        for g in range(G):\n",
      "            cov_per_contig = gamma[g,s]\n",
      "            # Eta[c,g] gives us the number of copies of contig c in genome g\n",
      "            sources[c,g,s] = eta[c,g]*cov_per_contig"
     ],
     "language": "python",
     "metadata": {},
     "outputs": [],
     "prompt_number": 226
    },
    {
     "cell_type": "code",
     "collapsed": false,
     "input": [
      "gamma[0,0]"
     ],
     "language": "python",
     "metadata": {},
     "outputs": [
      {
       "metadata": {},
       "output_type": "pyout",
       "prompt_number": 195,
       "text": [
        "12.0"
       ]
      }
     ],
     "prompt_number": 195
    },
    {
     "cell_type": "code",
     "collapsed": false,
     "input": [
      "counts"
     ],
     "language": "python",
     "metadata": {},
     "outputs": [
      {
       "metadata": {},
       "output_type": "pyout",
       "prompt_number": 185,
       "text": [
        "array([[142, 137, 154, 137],\n",
        "       [139, 160, 132, 143],\n",
        "       [156, 145, 124, 134],\n",
        "       [131, 142, 174, 130],\n",
        "       [121,  15,  57,  80],\n",
        "       [119,  13,  77,  82],\n",
        "       [154,  12,  78,  69],\n",
        "       [  9, 129,  67,  78],\n",
        "       [ 14, 116,  62,  66],\n",
        "       [ 15, 131,  75,  81]])"
       ]
      }
     ],
     "prompt_number": 185
    },
    {
     "cell_type": "code",
     "collapsed": false,
     "input": [
      "sources[:, :, 0]"
     ],
     "language": "python",
     "metadata": {},
     "outputs": [
      {
       "metadata": {},
       "output_type": "pyout",
       "prompt_number": 227,
       "text": [
        "array([[  12.,  130.],\n",
        "       [  12.,  130.],\n",
        "       [  12.,  130.],\n",
        "       [  12.,  130.],\n",
        "       [   0.,  130.],\n",
        "       [   0.,  130.],\n",
        "       [   0.,  130.],\n",
        "       [  12.,    0.],\n",
        "       [  12.,    0.],\n",
        "       [  12.,    0.]])"
       ]
      }
     ],
     "prompt_number": 227
    },
    {
     "cell_type": "code",
     "collapsed": false,
     "input": [
      "gamma[0,0]"
     ],
     "language": "python",
     "metadata": {},
     "outputs": [
      {
       "metadata": {},
       "output_type": "pyout",
       "prompt_number": 215,
       "text": [
        "12.0"
       ]
      }
     ],
     "prompt_number": 215
    },
    {
     "cell_type": "code",
     "collapsed": false,
     "input": [
      "sources[:, 0, 0]"
     ],
     "language": "python",
     "metadata": {},
     "outputs": [
      {
       "metadata": {},
       "output_type": "pyout",
       "prompt_number": 201,
       "text": [
        "array([ 71. ,  69.5,  78. ,  65.5,   0. ,   0. ,   0. ,   9. ,  14. ,  15. ])"
       ]
      }
     ],
     "prompt_number": 201
    },
    {
     "cell_type": "code",
     "collapsed": false,
     "input": [
      "sources[:, 1, 0]"
     ],
     "language": "python",
     "metadata": {},
     "outputs": [
      {
       "metadata": {},
       "output_type": "pyout",
       "prompt_number": 202,
       "text": [
        "array([  7.5,   7.5,   7.5,   7.5,  15. ,  15. ,  15. ,   0. ,   0. ,   0. ])"
       ]
      }
     ],
     "prompt_number": 202
    },
    {
     "cell_type": "code",
     "collapsed": false,
     "input": [
      "sources[:, :, 3]"
     ],
     "language": "python",
     "metadata": {},
     "outputs": [
      {
       "metadata": {},
       "output_type": "pyout",
       "prompt_number": 203,
       "text": [
        "array([[ 68.5,  68.5],\n",
        "       [ 71.5,  71.5],\n",
        "       [ 67. ,  67. ],\n",
        "       [ 65. ,  65. ],\n",
        "       [  0. ,  80. ],\n",
        "       [  0. ,  82. ],\n",
        "       [  0. ,  69. ],\n",
        "       [ 78. ,   0. ],\n",
        "       [ 66. ,   0. ],\n",
        "       [ 81. ,   0. ]])"
       ]
      }
     ],
     "prompt_number": 203
    },
    {
     "cell_type": "code",
     "collapsed": false,
     "input": [
      "sources.sum(axis=0)"
     ],
     "language": "python",
     "metadata": {},
     "outputs": [
      {
       "metadata": {},
       "output_type": "pyout",
       "prompt_number": 230,
       "text": [
        "array([[  84.,  910.,  455.,  511.],\n",
        "       [ 910.,   84.,  455.,  511.]])"
       ]
      }
     ],
     "prompt_number": 230
    },
    {
     "cell_type": "code",
     "collapsed": false,
     "input": [
      "sources.sum(axis=1)"
     ],
     "language": "python",
     "metadata": {},
     "outputs": [
      {
       "metadata": {},
       "output_type": "pyout",
       "prompt_number": 229,
       "text": [
        "array([[ 142.,  142.,  130.,  146.],\n",
        "       [ 142.,  142.,  130.,  146.],\n",
        "       [ 142.,  142.,  130.,  146.],\n",
        "       [ 142.,  142.,  130.,  146.],\n",
        "       [ 130.,   12.,   65.,   73.],\n",
        "       [ 130.,   12.,   65.,   73.],\n",
        "       [ 130.,   12.,   65.,   73.],\n",
        "       [  12.,  130.,   65.,   73.],\n",
        "       [  12.,  130.,   65.,   73.],\n",
        "       [  12.,  130.,   65.,   73.]])"
       ]
      }
     ],
     "prompt_number": 229
    },
    {
     "cell_type": "code",
     "collapsed": false,
     "input": [
      "np.savetxt(\"real_sources.csv\", sources, delimiter=',')"
     ],
     "language": "python",
     "metadata": {},
     "outputs": [
      {
       "ename": "TypeError",
       "evalue": "float argument required, not numpy.ndarray",
       "output_type": "pyerr",
       "traceback": [
        "\u001b[0;31m---------------------------------------------------------------------------\u001b[0m\n\u001b[0;31mTypeError\u001b[0m                                 Traceback (most recent call last)",
        "\u001b[0;32m<ipython-input-100-c73f0a96b91a>\u001b[0m in \u001b[0;36m<module>\u001b[0;34m()\u001b[0m\n\u001b[0;32m----> 1\u001b[0;31m \u001b[0mnp\u001b[0m\u001b[0;34m.\u001b[0m\u001b[0msavetxt\u001b[0m\u001b[0;34m(\u001b[0m\u001b[0;34m\"real_sources.csv\"\u001b[0m\u001b[0;34m,\u001b[0m \u001b[0msources\u001b[0m\u001b[0;34m,\u001b[0m \u001b[0mdelimiter\u001b[0m\u001b[0;34m=\u001b[0m\u001b[0;34m','\u001b[0m\u001b[0;34m)\u001b[0m\u001b[0;34m\u001b[0m\u001b[0m\n\u001b[0m",
        "\u001b[0;32m/Users/johannesalneberg/anaconda/envs/strain_hack/lib/python2.7/site-packages/numpy/lib/npyio.pyc\u001b[0m in \u001b[0;36msavetxt\u001b[0;34m(fname, X, fmt, delimiter, newline, header, footer, comments)\u001b[0m\n\u001b[1;32m   1081\u001b[0m         \u001b[0;32melse\u001b[0m\u001b[0;34m:\u001b[0m\u001b[0;34m\u001b[0m\u001b[0m\n\u001b[1;32m   1082\u001b[0m             \u001b[0;32mfor\u001b[0m \u001b[0mrow\u001b[0m \u001b[0;32min\u001b[0m \u001b[0mX\u001b[0m\u001b[0;34m:\u001b[0m\u001b[0;34m\u001b[0m\u001b[0m\n\u001b[0;32m-> 1083\u001b[0;31m                 \u001b[0mfh\u001b[0m\u001b[0;34m.\u001b[0m\u001b[0mwrite\u001b[0m\u001b[0;34m(\u001b[0m\u001b[0masbytes\u001b[0m\u001b[0;34m(\u001b[0m\u001b[0mformat\u001b[0m \u001b[0;34m%\u001b[0m \u001b[0mtuple\u001b[0m\u001b[0;34m(\u001b[0m\u001b[0mrow\u001b[0m\u001b[0;34m)\u001b[0m \u001b[0;34m+\u001b[0m \u001b[0mnewline\u001b[0m\u001b[0;34m)\u001b[0m\u001b[0;34m)\u001b[0m\u001b[0;34m\u001b[0m\u001b[0m\n\u001b[0m\u001b[1;32m   1084\u001b[0m         \u001b[0;32mif\u001b[0m \u001b[0mlen\u001b[0m\u001b[0;34m(\u001b[0m\u001b[0mfooter\u001b[0m\u001b[0;34m)\u001b[0m \u001b[0;34m>\u001b[0m \u001b[0;36m0\u001b[0m\u001b[0;34m:\u001b[0m\u001b[0;34m\u001b[0m\u001b[0m\n\u001b[1;32m   1085\u001b[0m             \u001b[0mfooter\u001b[0m \u001b[0;34m=\u001b[0m \u001b[0mfooter\u001b[0m\u001b[0;34m.\u001b[0m\u001b[0mreplace\u001b[0m\u001b[0;34m(\u001b[0m\u001b[0;34m'\\n'\u001b[0m\u001b[0;34m,\u001b[0m \u001b[0;34m'\\n'\u001b[0m \u001b[0;34m+\u001b[0m \u001b[0mcomments\u001b[0m\u001b[0;34m)\u001b[0m\u001b[0;34m\u001b[0m\u001b[0m\n",
        "\u001b[0;31mTypeError\u001b[0m: float argument required, not numpy.ndarray"
       ]
      }
     ],
     "prompt_number": 100
    },
    {
     "cell_type": "code",
     "collapsed": false,
     "input": [
      "np.save(\"real_sources\", sources)"
     ],
     "language": "python",
     "metadata": {},
     "outputs": [],
     "prompt_number": 231
    },
    {
     "cell_type": "code",
     "collapsed": true,
     "input": [
      "sources"
     ],
     "language": "python",
     "metadata": {},
     "outputs": [
      {
       "metadata": {},
       "output_type": "pyout",
       "prompt_number": 102,
       "text": [
        "array([[[  71. ,   68.5,   77. ,   68.5],\n",
        "        [  71. ,   68.5,   77. ,   68.5]],\n",
        "\n",
        "       [[  69.5,   80. ,   66. ,   71.5],\n",
        "        [  69.5,   80. ,   66. ,   71.5]],\n",
        "\n",
        "       [[  78. ,   72.5,   62. ,   67. ],\n",
        "        [  78. ,   72.5,   62. ,   67. ]],\n",
        "\n",
        "       [[  65.5,   71. ,   87. ,   65. ],\n",
        "        [  65.5,   71. ,   87. ,   65. ]],\n",
        "\n",
        "       [[   0. ,    0. ,    0. ,    0. ],\n",
        "        [ 121. ,   15. ,   57. ,   80. ]],\n",
        "\n",
        "       [[   0. ,    0. ,    0. ,    0. ],\n",
        "        [ 119. ,   13. ,   77. ,   82. ]],\n",
        "\n",
        "       [[   0. ,    0. ,    0. ,    0. ],\n",
        "        [ 154. ,   12. ,   78. ,   69. ]],\n",
        "\n",
        "       [[   9. ,  129. ,   67. ,   78. ],\n",
        "        [   0. ,    0. ,    0. ,    0. ]],\n",
        "\n",
        "       [[  14. ,  116. ,   62. ,   66. ],\n",
        "        [   0. ,    0. ,    0. ,    0. ]],\n",
        "\n",
        "       [[  15. ,  131. ,   75. ,   81. ],\n",
        "        [   0. ,    0. ,    0. ,    0. ]]])"
       ]
      }
     ],
     "prompt_number": 102
    },
    {
     "cell_type": "code",
     "collapsed": false,
     "input": [
      "np.savetxt?"
     ],
     "language": "python",
     "metadata": {},
     "outputs": [],
     "prompt_number": 101
    },
    {
     "cell_type": "code",
     "collapsed": false,
     "input": [
      "counts"
     ],
     "language": "python",
     "metadata": {},
     "outputs": [
      {
       "metadata": {},
       "output_type": "pyout",
       "prompt_number": 98,
       "text": [
        "array([[142, 137, 154, 137],\n",
        "       [139, 160, 132, 143],\n",
        "       [156, 145, 124, 134],\n",
        "       [131, 142, 174, 130],\n",
        "       [121,  15,  57,  80],\n",
        "       [119,  13,  77,  82],\n",
        "       [154,  12,  78,  69],\n",
        "       [  9, 129,  67,  78],\n",
        "       [ 14, 116,  62,  66],\n",
        "       [ 15, 131,  75,  81]])"
       ]
      }
     ],
     "prompt_number": 98
    },
    {
     "cell_type": "code",
     "collapsed": false,
     "input": [
      "sources.sum(axis=1)"
     ],
     "language": "python",
     "metadata": {},
     "outputs": [
      {
       "metadata": {},
       "output_type": "pyout",
       "prompt_number": 99,
       "text": [
        "array([[ 142.,  137.,  154.,  137.],\n",
        "       [ 139.,  160.,  132.,  143.],\n",
        "       [ 156.,  145.,  124.,  134.],\n",
        "       [ 131.,  142.,  174.,  130.],\n",
        "       [ 121.,   15.,   57.,   80.],\n",
        "       [ 119.,   13.,   77.,   82.],\n",
        "       [ 154.,   12.,   78.,   69.],\n",
        "       [   9.,  129.,   67.,   78.],\n",
        "       [  14.,  116.,   62.,   66.],\n",
        "       [  15.,  131.,   75.,   81.]])"
       ]
      }
     ],
     "prompt_number": 99
    },
    {
     "cell_type": "code",
     "collapsed": false,
     "input": [
      "gamma = np.zeros((G,S))"
     ],
     "language": "python",
     "metadata": {},
     "outputs": [],
     "prompt_number": 111
    },
    {
     "cell_type": "code",
     "collapsed": false,
     "input": [
      "# Coverage of genome g in sample S\n",
      "# Given the sources it should be quite easy to calculate:\n",
      "sources.sum(axis=0)"
     ],
     "language": "python",
     "metadata": {},
     "outputs": [
      {
       "metadata": {},
       "output_type": "pyout",
       "prompt_number": 114,
       "text": [
        "array([[ 322.,  668.,  496.,  497.],\n",
        "       [ 678.,  332.,  504.,  503.]])"
       ]
      }
     ],
     "prompt_number": 114
    },
    {
     "cell_type": "code",
     "collapsed": false,
     "input": [
      "counts"
     ],
     "language": "python",
     "metadata": {},
     "outputs": [
      {
       "metadata": {},
       "output_type": "pyout",
       "prompt_number": 115,
       "text": [
        "array([[142, 137, 154, 137],\n",
        "       [139, 160, 132, 143],\n",
        "       [156, 145, 124, 134],\n",
        "       [131, 142, 174, 130],\n",
        "       [121,  15,  57,  80],\n",
        "       [119,  13,  77,  82],\n",
        "       [154,  12,  78,  69],\n",
        "       [  9, 129,  67,  78],\n",
        "       [ 14, 116,  62,  66],\n",
        "       [ 15, 131,  75,  81]])"
       ]
      }
     ],
     "prompt_number": 115
    },
    {
     "cell_type": "code",
     "collapsed": false,
     "input": [
      "np.dot(eta, sources.sum(axis=0))"
     ],
     "language": "python",
     "metadata": {},
     "outputs": [
      {
       "metadata": {},
       "output_type": "pyout",
       "prompt_number": 116,
       "text": [
        "array([[ 1000.,  1000.,  1000.,  1000.],\n",
        "       [ 1000.,  1000.,  1000.,  1000.],\n",
        "       [ 1000.,  1000.,  1000.,  1000.],\n",
        "       [ 1000.,  1000.,  1000.,  1000.],\n",
        "       [  678.,   332.,   504.,   503.],\n",
        "       [  678.,   332.,   504.,   503.],\n",
        "       [  678.,   332.,   504.,   503.],\n",
        "       [  322.,   668.,   496.,   497.],\n",
        "       [  322.,   668.,   496.,   497.],\n",
        "       [  322.,   668.,   496.,   497.]])"
       ]
      }
     ],
     "prompt_number": 116
    },
    {
     "cell_type": "code",
     "collapsed": false,
     "input": [
      "sources"
     ],
     "language": "python",
     "metadata": {},
     "outputs": [
      {
       "metadata": {},
       "output_type": "pyout",
       "prompt_number": 117,
       "text": [
        "array([[[  71. ,   68.5,   77. ,   68.5],\n",
        "        [  71. ,   68.5,   77. ,   68.5]],\n",
        "\n",
        "       [[  69.5,   80. ,   66. ,   71.5],\n",
        "        [  69.5,   80. ,   66. ,   71.5]],\n",
        "\n",
        "       [[  78. ,   72.5,   62. ,   67. ],\n",
        "        [  78. ,   72.5,   62. ,   67. ]],\n",
        "\n",
        "       [[  65.5,   71. ,   87. ,   65. ],\n",
        "        [  65.5,   71. ,   87. ,   65. ]],\n",
        "\n",
        "       [[   0. ,    0. ,    0. ,    0. ],\n",
        "        [ 121. ,   15. ,   57. ,   80. ]],\n",
        "\n",
        "       [[   0. ,    0. ,    0. ,    0. ],\n",
        "        [ 119. ,   13. ,   77. ,   82. ]],\n",
        "\n",
        "       [[   0. ,    0. ,    0. ,    0. ],\n",
        "        [ 154. ,   12. ,   78. ,   69. ]],\n",
        "\n",
        "       [[   9. ,  129. ,   67. ,   78. ],\n",
        "        [   0. ,    0. ,    0. ,    0. ]],\n",
        "\n",
        "       [[  14. ,  116. ,   62. ,   66. ],\n",
        "        [   0. ,    0. ,    0. ,    0. ]],\n",
        "\n",
        "       [[  15. ,  131. ,   75. ,   81. ],\n",
        "        [   0. ,    0. ,    0. ,    0. ]]])"
       ]
      }
     ],
     "prompt_number": 117
    },
    {
     "cell_type": "code",
     "collapsed": false,
     "input": [
      "counts.shape"
     ],
     "language": "python",
     "metadata": {},
     "outputs": [
      {
       "metadata": {},
       "output_type": "pyout",
       "prompt_number": 118,
       "text": [
        "(10, 4)"
       ]
      }
     ],
     "prompt_number": 118
    },
    {
     "cell_type": "code",
     "collapsed": false,
     "input": [
      "counts[:, 0]"
     ],
     "language": "python",
     "metadata": {},
     "outputs": [
      {
       "metadata": {},
       "output_type": "pyout",
       "prompt_number": 121,
       "text": [
        "array([142, 139, 156, 131, 121, 119, 154,   9,  14,  15])"
       ]
      }
     ],
     "prompt_number": 121
    },
    {
     "cell_type": "code",
     "collapsed": false,
     "input": [
      "gamma_test = sources.sum(axis=0)"
     ],
     "language": "python",
     "metadata": {},
     "outputs": [],
     "prompt_number": 123
    },
    {
     "cell_type": "code",
     "collapsed": false,
     "input": [
      "gamma_test"
     ],
     "language": "python",
     "metadata": {},
     "outputs": [
      {
       "metadata": {},
       "output_type": "pyout",
       "prompt_number": 124,
       "text": [
        "array([[ 322.,  668.,  496.,  497.],\n",
        "       [ 678.,  332.,  504.,  503.]])"
       ]
      }
     ],
     "prompt_number": 124
    },
    {
     "cell_type": "code",
     "collapsed": false,
     "input": [
      "np.dot(eta, gamma_test[:,0])"
     ],
     "language": "python",
     "metadata": {},
     "outputs": [
      {
       "metadata": {},
       "output_type": "pyout",
       "prompt_number": 128,
       "text": [
        "array([ 1000.,  1000.,  1000.,  1000.,   678.,   678.,   678.,   322.,\n",
        "         322.,   322.])"
       ]
      }
     ],
     "prompt_number": 128
    },
    {
     "cell_type": "code",
     "collapsed": false,
     "input": [
      "sources"
     ],
     "language": "python",
     "metadata": {},
     "outputs": [
      {
       "metadata": {},
       "output_type": "pyout",
       "prompt_number": 130,
       "text": [
        "array([[[  71. ,   68.5,   77. ,   68.5],\n",
        "        [  71. ,   68.5,   77. ,   68.5]],\n",
        "\n",
        "       [[  69.5,   80. ,   66. ,   71.5],\n",
        "        [  69.5,   80. ,   66. ,   71.5]],\n",
        "\n",
        "       [[  78. ,   72.5,   62. ,   67. ],\n",
        "        [  78. ,   72.5,   62. ,   67. ]],\n",
        "\n",
        "       [[  65.5,   71. ,   87. ,   65. ],\n",
        "        [  65.5,   71. ,   87. ,   65. ]],\n",
        "\n",
        "       [[   0. ,    0. ,    0. ,    0. ],\n",
        "        [ 121. ,   15. ,   57. ,   80. ]],\n",
        "\n",
        "       [[   0. ,    0. ,    0. ,    0. ],\n",
        "        [ 119. ,   13. ,   77. ,   82. ]],\n",
        "\n",
        "       [[   0. ,    0. ,    0. ,    0. ],\n",
        "        [ 154. ,   12. ,   78. ,   69. ]],\n",
        "\n",
        "       [[   9. ,  129. ,   67. ,   78. ],\n",
        "        [   0. ,    0. ,    0. ,    0. ]],\n",
        "\n",
        "       [[  14. ,  116. ,   62. ,   66. ],\n",
        "        [   0. ,    0. ,    0. ,    0. ]],\n",
        "\n",
        "       [[  15. ,  131. ,   75. ,   81. ],\n",
        "        [   0. ,    0. ,    0. ,    0. ]]])"
       ]
      }
     ],
     "prompt_number": 130
    },
    {
     "cell_type": "code",
     "collapsed": false,
     "input": [
      "eta"
     ],
     "language": "python",
     "metadata": {},
     "outputs": [
      {
       "metadata": {},
       "output_type": "pyout",
       "prompt_number": 172,
       "text": [
        "array([[ 1.,  1.],\n",
        "       [ 1.,  1.],\n",
        "       [ 1.,  1.],\n",
        "       [ 1.,  1.],\n",
        "       [ 0.,  1.],\n",
        "       [ 0.,  1.],\n",
        "       [ 0.,  1.],\n",
        "       [ 1.,  0.],\n",
        "       [ 1.,  0.],\n",
        "       [ 1.,  0.]])"
       ]
      }
     ],
     "prompt_number": 172
    },
    {
     "cell_type": "code",
     "collapsed": false,
     "input": [
      "sources.sum(axis=1)/eta.sum(axis=1)"
     ],
     "language": "python",
     "metadata": {},
     "outputs": [
      {
       "ename": "ValueError",
       "evalue": "operands could not be broadcast together with shapes (10,4) (10,) ",
       "output_type": "pyerr",
       "traceback": [
        "\u001b[0;31m---------------------------------------------------------------------------\u001b[0m\n\u001b[0;31mValueError\u001b[0m                                Traceback (most recent call last)",
        "\u001b[0;32m<ipython-input-132-e780597901dc>\u001b[0m in \u001b[0;36m<module>\u001b[0;34m()\u001b[0m\n\u001b[0;32m----> 1\u001b[0;31m \u001b[0msources\u001b[0m\u001b[0;34m.\u001b[0m\u001b[0msum\u001b[0m\u001b[0;34m(\u001b[0m\u001b[0maxis\u001b[0m\u001b[0;34m=\u001b[0m\u001b[0;36m1\u001b[0m\u001b[0;34m)\u001b[0m\u001b[0;34m/\u001b[0m\u001b[0meta\u001b[0m\u001b[0;34m.\u001b[0m\u001b[0msum\u001b[0m\u001b[0;34m(\u001b[0m\u001b[0maxis\u001b[0m\u001b[0;34m=\u001b[0m\u001b[0;36m1\u001b[0m\u001b[0;34m)\u001b[0m\u001b[0;34m\u001b[0m\u001b[0m\n\u001b[0m",
        "\u001b[0;31mValueError\u001b[0m: operands could not be broadcast together with shapes (10,4) (10,) "
       ]
      }
     ],
     "prompt_number": 132
    },
    {
     "cell_type": "code",
     "collapsed": false,
     "input": [
      "sources_summed = sources.sum(axis=1)\n",
      "# (C,G,S)\n",
      "eta_summed = eta.sum(axis=1)\n",
      "for g in range(G):\n",
      "    for s in range(S):\n",
      "        # Sum sources over contigs = coverage for genome g in \n",
      "        # Sum eta over all contigs = number of contigs in that genome\n",
      "        gamma[g,s] = sources[:, g, s].sum() / eta[:,g].sum()"
     ],
     "language": "python",
     "metadata": {},
     "outputs": [],
     "prompt_number": 141
    },
    {
     "cell_type": "code",
     "collapsed": false,
     "input": [
      "sources_summed = sources.sum(axis=1)\n",
      "# (C,G,S)\n",
      "eta_summed = eta.sum(axis=1)\n",
      "for g in range(G):\n",
      "    for s in range(S):\n",
      "        # Sum sources over contigs = coverage for genome g in \n",
      "        print sources[:, g, s]\n",
      "        break\n",
      "        gamma[g,s] = sources[:, g, s].sum()"
     ],
     "language": "python",
     "metadata": {},
     "outputs": [
      {
       "output_type": "stream",
       "stream": "stdout",
       "text": [
        "[ 71.   69.5  78.   65.5   0.    0.    0.    9.   14.   15. ]\n",
        "[  71.    69.5   78.    65.5  121.   119.   154.     0.     0.     0. ]\n"
       ]
      }
     ],
     "prompt_number": 171
    },
    {
     "cell_type": "code",
     "collapsed": false,
     "input": [
      "sources[:, 1, 0]"
     ],
     "language": "python",
     "metadata": {},
     "outputs": [
      {
       "metadata": {},
       "output_type": "pyout",
       "prompt_number": 177,
       "text": [
        "array([  71. ,   69.5,   78. ,   65.5,  121. ,  119. ,  154. ,    0. ,\n",
        "          0. ,    0. ])"
       ]
      }
     ],
     "prompt_number": 177
    },
    {
     "cell_type": "code",
     "collapsed": false,
     "input": [
      "gamma"
     ],
     "language": "python",
     "metadata": {},
     "outputs": [
      {
       "metadata": {},
       "output_type": "pyout",
       "prompt_number": 170,
       "text": [
        "array([[ 322.,  668.,  496.,  497.],\n",
        "       [ 678.,  332.,  504.,  503.]])"
       ]
      }
     ],
     "prompt_number": 170
    },
    {
     "cell_type": "code",
     "collapsed": false,
     "input": [
      "gamma"
     ],
     "language": "python",
     "metadata": {},
     "outputs": [
      {
       "metadata": {},
       "output_type": "pyout",
       "prompt_number": 142,
       "text": [
        "array([[ 46.        ,  95.42857143,  70.85714286,  71.        ],\n",
        "       [ 96.85714286,  47.42857143,  72.        ,  71.85714286]])"
       ]
      }
     ],
     "prompt_number": 142
    },
    {
     "cell_type": "code",
     "collapsed": false,
     "input": [
      "np.dot(eta, gamma)"
     ],
     "language": "python",
     "metadata": {},
     "outputs": [
      {
       "metadata": {},
       "output_type": "pyout",
       "prompt_number": 143,
       "text": [
        "array([[ 142.85714286,  142.85714286,  142.85714286,  142.85714286],\n",
        "       [ 142.85714286,  142.85714286,  142.85714286,  142.85714286],\n",
        "       [ 142.85714286,  142.85714286,  142.85714286,  142.85714286],\n",
        "       [ 142.85714286,  142.85714286,  142.85714286,  142.85714286],\n",
        "       [  96.85714286,   47.42857143,   72.        ,   71.85714286],\n",
        "       [  96.85714286,   47.42857143,   72.        ,   71.85714286],\n",
        "       [  96.85714286,   47.42857143,   72.        ,   71.85714286],\n",
        "       [  46.        ,   95.42857143,   70.85714286,   71.        ],\n",
        "       [  46.        ,   95.42857143,   70.85714286,   71.        ],\n",
        "       [  46.        ,   95.42857143,   70.85714286,   71.        ]])"
       ]
      }
     ],
     "prompt_number": 143
    },
    {
     "cell_type": "code",
     "collapsed": false,
     "input": [
      "counts"
     ],
     "language": "python",
     "metadata": {},
     "outputs": [
      {
       "metadata": {},
       "output_type": "pyout",
       "prompt_number": 136,
       "text": [
        "array([[142, 137, 154, 137],\n",
        "       [139, 160, 132, 143],\n",
        "       [156, 145, 124, 134],\n",
        "       [131, 142, 174, 130],\n",
        "       [121,  15,  57,  80],\n",
        "       [119,  13,  77,  82],\n",
        "       [154,  12,  78,  69],\n",
        "       [  9, 129,  67,  78],\n",
        "       [ 14, 116,  62,  66],\n",
        "       [ 15, 131,  75,  81]])"
       ]
      }
     ],
     "prompt_number": 136
    },
    {
     "cell_type": "code",
     "collapsed": false,
     "input": [
      "eta.T"
     ],
     "language": "python",
     "metadata": {},
     "outputs": [
      {
       "metadata": {},
       "output_type": "pyout",
       "prompt_number": 138,
       "text": [
        "array([[ 1.,  1.,  1.,  1.,  0.,  0.,  0.,  1.,  1.,  1.],\n",
        "       [ 1.,  1.,  1.,  1.,  1.,  1.,  1.,  0.,  0.,  0.]])"
       ]
      }
     ],
     "prompt_number": 138
    },
    {
     "cell_type": "code",
     "collapsed": false,
     "input": [
      "gamma.shape"
     ],
     "language": "python",
     "metadata": {},
     "outputs": [
      {
       "metadata": {},
       "output_type": "pyout",
       "prompt_number": 144,
       "text": [
        "(2, 4)"
       ]
      }
     ],
     "prompt_number": 144
    },
    {
     "cell_type": "code",
     "collapsed": false,
     "input": [
      "gamma[:,0] = np.array([12, 130])\n",
      "gamma[:,1] = np.array([130, 12])\n",
      "gamma[:,2] = np.array([65, 65])\n",
      "gamma[:,3] = np.array([73, 73])"
     ],
     "language": "python",
     "metadata": {},
     "outputs": [],
     "prompt_number": 190
    },
    {
     "cell_type": "code",
     "collapsed": false,
     "input": [
      "gamma"
     ],
     "language": "python",
     "metadata": {},
     "outputs": [
      {
       "metadata": {},
       "output_type": "pyout",
       "prompt_number": 191,
       "text": [
        "array([[  12.,  130.,   65.,   73.],\n",
        "       [ 130.,   12.,   65.,   73.]])"
       ]
      }
     ],
     "prompt_number": 191
    },
    {
     "cell_type": "code",
     "collapsed": false,
     "input": [
      "np.dot(eta, gamma)"
     ],
     "language": "python",
     "metadata": {},
     "outputs": [
      {
       "metadata": {},
       "output_type": "pyout",
       "prompt_number": 156,
       "text": [
        "array([[ 142.,  142.,  130.,  146.],\n",
        "       [ 142.,  142.,  130.,  146.],\n",
        "       [ 142.,  142.,  130.,  146.],\n",
        "       [ 142.,  142.,  130.,  146.],\n",
        "       [ 130.,   12.,   65.,   73.],\n",
        "       [ 130.,   12.,   65.,   73.],\n",
        "       [ 130.,   12.,   65.,   73.],\n",
        "       [  12.,  130.,   65.,   73.],\n",
        "       [  12.,  130.,   65.,   73.],\n",
        "       [  12.,  130.,   65.,   73.]])"
       ]
      }
     ],
     "prompt_number": 156
    },
    {
     "cell_type": "code",
     "collapsed": false,
     "input": [
      "np.savetxt(\"/Users/johannesalneberg/repos/strain_hackathon/chris/real_gamma.csv\", gamma, delimiter=',')"
     ],
     "language": "python",
     "metadata": {},
     "outputs": [],
     "prompt_number": 158
    },
    {
     "cell_type": "code",
     "collapsed": false,
     "input": [
      "#Investigate the prior parameters:\n",
      "x = []\n",
      "a_1 = []\n",
      "alpha = 1.00e-3\n",
      "beta = 1.0e3\n",
      "for b in xrange(0,1000,20):\n",
      "    x.append(b)\n",
      "    a_1.append(stats.gamma.logpdf(b, alpha, scale=beta))\n",
      "\n",
      "plt.plot(x, a_1, label = \"Density for eta and gamma, alpha={0},beta={1}\".format(alpha, beta))\n",
      "fig = plt.legend()"
     ],
     "language": "python",
     "metadata": {},
     "outputs": [
      {
       "metadata": {},
       "output_type": "display_data",
       "png": "[encoded data removed]",
       "text": [
        "<matplotlib.figure.Figure at 0x108c6e190>"
       ]
      }
     ],
     "prompt_number": 166
    },
    {
     "cell_type": "code",
     "collapsed": false,
     "input": [
      "#Investigate the prior parameters:\n",
      "x = []\n",
      "a_1 = []\n",
      "alpha = 1.00e-3\n",
      "beta = 1.0e3\n",
      "for b in xrange(0,1000,20):\n",
      "    x.append(b)\n",
      "    a_1.append(stats.gamma.logpdf(b, alpha, scale=beta))\n",
      "\n",
      "plt.plot(x, a_1, label = \"Density for eta and gamma, alpha={0},beta={1}\".format(alpha, beta))\n",
      "fig = plt.legend()"
     ],
     "language": "python",
     "metadata": {},
     "outputs": []
    },
    {
     "cell_type": "code",
     "collapsed": false,
     "input": [
      "#Investigate the prior parameters:\n",
      "x = []\n",
      "a_1 = []\n",
      "alpha = 1.00e-3\n",
      "beta = 1.0e3\n",
      "for b in xrange(0,1000,20):\n",
      "    x.append(b)\n",
      "    a_1.append(stats.gamma.logpdf(b, alpha, scale=beta))\n",
      "\n",
      "plt.plot(x, a_1, label = \"Density for eta and gamma\")\n",
      "fig = plt.legend()"
     ],
     "language": "python",
     "metadata": {},
     "outputs": []
    },
    {
     "cell_type": "code",
     "collapsed": false,
     "input": [
      "#Given X, gamma and Sources, how do we estimate eta?\n"
     ],
     "language": "python",
     "metadata": {},
     "outputs": []
    }
   ],
   "metadata": {}
  }
 ]
}